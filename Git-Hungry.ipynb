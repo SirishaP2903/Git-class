{
 "cells": [
  {
   "cell_type": "code",
   "execution_count": 1,
   "id": "59be5012-781c-4b26-946b-8b966df81186",
   "metadata": {},
   "outputs": [
    {
     "name": "stdout",
     "output_type": "stream",
     "text": [
      "I am hungry\n"
     ]
    }
   ],
   "source": [
    "print(\"I am hungry\")"
   ]
  },
  {
   "cell_type": "code",
   "execution_count": null,
   "id": "ab597bba-8e70-4fd4-9c4f-b7e382126243",
   "metadata": {},
   "outputs": [],
   "source": []
  }
 ],
 "metadata": {
  "kernelspec": {
   "display_name": "Python 3 (ipykernel)",
   "language": "python",
   "name": "python3"
  },
  "language_info": {
   "codemirror_mode": {
    "name": "ipython",
    "version": 3
   },
   "file_extension": ".py",
   "mimetype": "text/x-python",
   "name": "python",
   "nbconvert_exporter": "python",
   "pygments_lexer": "ipython3",
   "version": "3.12.4"
  }
 },
 "nbformat": 4,
 "nbformat_minor": 5
}
